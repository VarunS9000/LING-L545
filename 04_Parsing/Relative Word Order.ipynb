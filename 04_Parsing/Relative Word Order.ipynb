{
 "cells": [
  {
   "cell_type": "code",
   "execution_count": 3,
   "id": "c041c6c9",
   "metadata": {},
   "outputs": [],
   "source": [
    "def get_vo_ov(file):\n",
    "    vo = 0\n",
    "    ov = 0\n",
    "    for fi in file.readlines():\n",
    "        t = fi.split('\\t')\n",
    "        if 'obj' in t:\n",
    "            if t[0] >  t[6]:\n",
    "                vo = vo + 1\n",
    "            if t[6] > t[0]:\n",
    "                ov = ov + 1\n",
    "\n",
    "    if float(ov) <  float(vo):\n",
    "        ov = float(ov) / float(vo)\n",
    "        vo = 1-(float(ov) / float(vo))\n",
    "    else:\n",
    "        vo = float(vo) / float(ov)\n",
    "        ov = 1-(float(vo) / float(ov))\n",
    "        \n",
    "    return ov,vo"
   ]
  },
  {
   "cell_type": "code",
   "execution_count": 4,
   "id": "6d64d34e",
   "metadata": {},
   "outputs": [
    {
     "name": "stdout",
     "output_type": "stream",
     "text": [
      "spanish OV :0.19667170953101362 VO :0.9997024633743857\n",
      "chinese OV :0.21690590111642744 VO :0.9998270287869885\n",
      "russian OV :0.4940758293838863 VO :0.9998829204195773\n",
      "english OV :0.05014152850788516 VO :0.9999797244122491\n",
      "hebrew OV :0.15156734412676542 VO :0.9999477894095327\n",
      "indonesian OV :0.08412698412698413 VO :0.9998664651045603\n",
      "italian OV :0.2464205963483515 VO :0.9999676316043152\n",
      "japanese OV :0.9998269164787766 VO :0.13985148514851486\n",
      "portugese OV :0.2975661375661376 VO :0.9999685115198342\n",
      "sanskrit OV :0.9997338130279271 VO :0.2909423604757548\n"
     ]
    }
   ],
   "source": [
    "files = ['es_pud-ud-test','zh_pud-ud-test','ru_taiga-ud-train','en_atis-ud-train','he_htb-ud-train','id_csui-ud-train','it_isdt-ud-train','ja_modern-ud-test','pl_pdb-ud-train','sa_vedic-ud-train']\n",
    "langs = ['spanish','chinese','russian','english','hebrew','indonesian','italian','japanese','portugese','sanskrit']\n",
    "labels = {}\n",
    "x = []\n",
    "y = []\n",
    "for i in range(len(langs)):\n",
    "    labels[i] = langs[i][0:3]\n",
    "idx = 0\n",
    "for f in files:\n",
    "    temp = open(f+'.conllu','r',encoding=\"utf-8\")\n",
    "    ov,vo = get_vo_ov(temp)\n",
    "    print(langs[idx] +' '+'OV :'+ str(ov),'VO :'+ str(vo))\n",
    "    x.append(ov)\n",
    "    y.append(vo)\n",
    "    idx = idx + 1\n",
    "    "
   ]
  },
  {
   "cell_type": "code",
   "execution_count": 5,
   "id": "6c7c2dca",
   "metadata": {},
   "outputs": [
    {
     "data": {
      "image/png": "[encoded data removed]",
      "text/plain": [
       "<Figure size 432x288 with 1 Axes>"
      ]
     },
     "metadata": {
      "needs_background": "light"
     },
     "output_type": "display_data"
    }
   ],
   "source": [
    "import matplotlib.pyplot as plt\n",
    "\n",
    " # proportion of VO\n",
    "plt.plot(x, y, 'ro')\n",
    "plt.title('Relative word order of verb and object')\n",
    "plt.xlim([0,1]) # Set the x and y axis ranges\n",
    "plt.ylim([0,1])\n",
    "plt.xlabel('OV') # Set the x and y axis labels\n",
    "plt.ylabel('VO')\n",
    "for i in labels:  # Add labels to each of the points\n",
    "    plt.text(x[i]-0.03, y[i]-0.03, labels[i], fontsize=9)\n",
    "\n",
    "plt.show()"
   ]
  },
  {
   "cell_type": "code",
   "execution_count": null,
   "id": "5e645faa",
   "metadata": {},
   "outputs": [],
   "source": []
  }
 ],
 "metadata": {
  "kernelspec": {
   "display_name": "Python 3 (ipykernel)",
   "language": "python",
   "name": "python3"
  },
  "language_info": {
   "codemirror_mode": {
    "name": "ipython",
    "version": 3
   },
   "file_extension": ".py",
   "mimetype": "text/x-python",
   "name": "python",
   "nbconvert_exporter": "python",
   "pygments_lexer": "ipython3",
   "version": "3.9.12"
  }
 },
 "nbformat": 4,
 "nbformat_minor": 5
}
